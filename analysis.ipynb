{
 "cells": [
  {
   "cell_type": "code",
   "execution_count": 1,
   "id": "fd7e11c5-1443-442b-9b44-8cb8f029088a",
   "metadata": {},
   "outputs": [],
   "source": [
    "import pandas, glob\n",
    "import matplotlib.pyplot as plt"
   ]
  },
  {
   "cell_type": "code",
   "execution_count": 2,
   "id": "315302b5-9b3f-4264-a1e1-d225232dca2c",
   "metadata": {},
   "outputs": [],
   "source": [
    "def load_as_dataframe(file_pattern, rows=[1,-1]):\n",
    "    start_date = []; end_date = []\n",
    "    for this_file in glob.glob(file_pattern):\n",
    "        with open(this_file) as file:\n",
    "            lines = file.readlines()\n",
    "            start_date.append(lines[rows[0]].strip())\n",
    "            end_date.append(lines[rows[1]].strip())\n",
    "    df = pandas.DataFrame({\n",
    "        'start_date': pandas.to_datetime(start_date, format='%Y-%m-%d_%H:%M:%S_%f'),\n",
    "        'end_date': pandas.to_datetime(end_date, format='%Y-%m-%d_%H:%M:%S_%f')\n",
    "    })\n",
    "    return df"
   ]
  },
  {
   "cell_type": "code",
   "execution_count": 3,
   "id": "f96925e1-724b-4d9d-86a2-8154d2efb691",
   "metadata": {},
   "outputs": [],
   "source": [
    "def calc_diff_in_seconds(date_diff):\n",
    "    df2 = date_diff.dt.components\n",
    "    return df2.minutes*60 + df2.seconds + df2.milliseconds/1e3 + df2.microseconds/1e6 + df2.nanoseconds/1e9"
   ]
  },
  {
   "cell_type": "markdown",
   "id": "af323d66-e0b6-421e-b0a4-cc378a067c60",
   "metadata": {},
   "source": [
    "For nesh-fe3,"
   ]
  },
  {
   "cell_type": "code",
   "execution_count": 4,
   "id": "ea5b90b5-13b4-4ebf-aba4-046f4b56dd2c",
   "metadata": {},
   "outputs": [],
   "source": [
    "conda_home = load_as_dataframe('./nesh-fe3_logs/conda-home*.log')\n",
    "singularity_home = load_as_dataframe('./nesh-fe3_logs/singularity-home*.log')\n",
    "conda_work = load_as_dataframe('./nesh-fe3_logs/conda-work*.log')\n",
    "singularity_work = load_as_dataframe('./nesh-fe3_logs/singularity-work*.log')"
   ]
  },
  {
   "cell_type": "code",
   "execution_count": 5,
   "id": "4c148c46-637a-4b9b-8627-cf90f7b741d3",
   "metadata": {},
   "outputs": [],
   "source": [
    "df = pandas.DataFrame({\n",
    "    'conda_home': calc_diff_in_seconds(conda_home['end_date'] - conda_home['start_date'])-60,\n",
    "    'singularity_home': calc_diff_in_seconds(singularity_home['end_date'] - singularity_home['start_date'])-60,\n",
    "    'conda_work': calc_diff_in_seconds(conda_work['end_date'] - conda_work['start_date'])-60,\n",
    "    'singularity_work': calc_diff_in_seconds(singularity_work['end_date'] - singularity_work['start_date'])-60\n",
    "})"
   ]
  },
  {
   "cell_type": "code",
   "execution_count": 6,
   "id": "57bbce4e-2b18-4b9b-8101-ddbc1b4014a5",
   "metadata": {},
   "outputs": [
    {
     "data": {
      "text/plain": [
       "Text(0.5, 1.0, 'nesh-fe3')"
      ]
     },
     "execution_count": 6,
     "metadata": {},
     "output_type": "execute_result"
    },
    {
     "data": {
      "image/png": "[encoded data removed]",
      "text/plain": [
       "<Figure size 432x288 with 1 Axes>"
      ]
     },
     "metadata": {
      "needs_background": "light"
     },
     "output_type": "display_data"
    }
   ],
   "source": [
    "df.boxplot(); plt.ylabel('Jupyter start-up time in seconds'); plt.title('nesh-fe3')"
   ]
  },
  {
   "cell_type": "markdown",
   "id": "711e5249-c1d3-4e2b-b215-8e7d90f6cf72",
   "metadata": {},
   "source": [
    "For desktop computer,"
   ]
  },
  {
   "cell_type": "code",
   "execution_count": 7,
   "id": "a37ea90d-1498-4230-a888-ee933e56805d",
   "metadata": {},
   "outputs": [],
   "source": [
    "conda = load_as_dataframe('./morpheus_logs/conda*.log')\n",
    "singularity = load_as_dataframe('./morpheus_logs/singularity*.log', rows=[2,-1])"
   ]
  },
  {
   "cell_type": "code",
   "execution_count": 8,
   "id": "3d8b3814-4798-4a39-b0db-3183e86f8ff2",
   "metadata": {},
   "outputs": [],
   "source": [
    "df = pandas.DataFrame({\n",
    "    'conda_home': calc_diff_in_seconds(conda['end_date'] - conda['start_date'])-60,\n",
    "    'singularity_home': calc_diff_in_seconds(singularity['end_date'] - singularity['start_date'])-60\n",
    "})"
   ]
  },
  {
   "cell_type": "code",
   "execution_count": 9,
   "id": "3e8b96c8-7786-4de4-be20-98bd37f56254",
   "metadata": {},
   "outputs": [
    {
     "data": {
      "text/plain": [
       "Text(0.5, 1.0, 'desktop computer')"
      ]
     },
     "execution_count": 9,
     "metadata": {},
     "output_type": "execute_result"
    },
    {
     "data": {
      "image/png": "[encoded data removed]",
      "text/plain": [
       "<Figure size 432x288 with 1 Axes>"
      ]
     },
     "metadata": {
      "needs_background": "light"
     },
     "output_type": "display_data"
    }
   ],
   "source": [
    "df.boxplot(column=['conda_home', 'singularity_home']);\n",
    "plt.ylabel('Jupyter start-up time in seconds'); plt.title('desktop computer')"
   ]
  },
  {
   "cell_type": "markdown",
   "id": "c16aff83-c71e-4d6f-bc79-0bd8ed9298e9",
   "metadata": {},
   "source": [
    "Python environment,"
   ]
  },
  {
   "cell_type": "code",
   "execution_count": 10,
   "id": "b427310d-bfbb-41df-ad1a-89b426814e75",
   "metadata": {},
   "outputs": [
    {
     "name": "stdout",
     "output_type": "stream",
     "text": [
      "# This file may be used to create an environment using:\n",
      "# $ conda create --name <env> --file <this file>\n",
      "# platform: linux-64\n",
      "@EXPLICIT\n",
      "https://repo.anaconda.com/pkgs/main/linux-64/_libgcc_mutex-0.1-main.conda\n",
      "https://conda.anaconda.org/conda-forge/linux-64/ca-certificates-2020.12.5-ha878542_0.tar.bz2\n",
      "https://repo.anaconda.com/pkgs/main/linux-64/ld_impl_linux-64-2.33.1-h53a641e_7.conda\n",
      "https://conda.anaconda.org/conda-forge/linux-64/libgfortran4-7.5.0-h14aa051_19.tar.bz2\n",
      "https://repo.anaconda.com/pkgs/main/linux-64/libstdcxx-ng-9.1.0-hdf63c60_0.conda\n",
      "https://conda.anaconda.org/conda-forge/linux-64/pandoc-2.13-h7f98852_0.tar.bz2\n",
      "https://repo.anaconda.com/pkgs/main/noarch/tzdata-2020d-h14c3975_0.conda\n",
      "https://repo.anaconda.com/pkgs/main/linux-64/libgcc-ng-9.1.0-hdf63c60_0.conda\n",
      "https://conda.anaconda.org/conda-forge/linux-64/libgfortran-ng-7.5.0-h14aa051_19.tar.bz2\n",
      "https://repo.anaconda.com/pkgs/main/linux-64/expat-2.4.1-h2531618_2.conda\n",
      "https://conda.anaconda.org/conda-forge/linux-64/icu-58.2-hf484d3e_1000.tar.bz2\n",
      "https://conda.anaconda.org/conda-forge/linux-64/jpeg-9d-h36c2ea0_0.tar.bz2\n",
      "https://repo.anaconda.com/pkgs/main/linux-64/libffi-3.3-he6710b0_2.conda\n",
      "https://conda.anaconda.org/conda-forge/linux-64/libopenblas-0.3.12-pthreads_hb3c22a3_1.tar.bz2\n",
      "https://conda.anaconda.org/conda-forge/linux-64/libsodium-1.0.18-h36c2ea0_1.tar.bz2\n",
      "https://conda.anaconda.org/conda-forge/linux-64/libuuid-2.32.1-h14c3975_1000.tar.bz2\n",
      "https://conda.anaconda.org/conda-forge/linux-64/lz4-c-1.9.2-he1b5a44_3.tar.bz2\n",
      "https://repo.anaconda.com/pkgs/main/linux-64/ncurses-6.2-he6710b0_1.conda\n",
      "https://repo.anaconda.com/pkgs/main/linux-64/openssl-1.1.1k-h27cfd23_0.conda\n",
      "https://conda.anaconda.org/conda-forge/linux-64/pcre-8.44-he1b5a44_0.tar.bz2\n",
      "https://conda.anaconda.org/conda-forge/linux-64/pthread-stubs-0.4-h36c2ea0_1001.tar.bz2\n",
      "https://conda.anaconda.org/conda-forge/linux-64/xorg-libxau-1.0.9-h14c3975_0.tar.bz2\n",
      "https://conda.anaconda.org/conda-forge/linux-64/xorg-libxdmcp-1.1.3-h516909a_0.tar.bz2\n",
      "https://repo.anaconda.com/pkgs/main/linux-64/xz-5.2.5-h7b6447c_0.conda\n",
      "https://repo.anaconda.com/pkgs/main/linux-64/yaml-0.2.5-h7b6447c_0.conda\n",
      "https://repo.anaconda.com/pkgs/main/linux-64/zlib-1.2.11-h7b6447c_3.conda\n",
      "https://repo.anaconda.com/pkgs/main/linux-64/glib-2.68.2-h36276a3_0.conda\n",
      "https://conda.anaconda.org/conda-forge/linux-64/libblas-3.9.0-8_openblas.tar.bz2\n",
      "https://repo.anaconda.com/pkgs/main/linux-64/libedit-3.1.20191231-h14c3975_1.conda\n",
      "https://conda.anaconda.org/conda-forge/linux-64/libpng-1.6.37-h21135ba_2.tar.bz2\n",
      "https://conda.anaconda.org/conda-forge/linux-64/libxcb-1.13-h14c3975_1002.tar.bz2\n",
      "https://repo.anaconda.com/pkgs/main/linux-64/libxml2-2.9.10-hb55368b_3.conda\n",
      "https://repo.anaconda.com/pkgs/main/linux-64/readline-8.0-h7b6447c_0.conda\n",
      "https://repo.anaconda.com/pkgs/main/linux-64/tk-8.6.10-hbc83047_0.conda\n",
      "https://repo.anaconda.com/pkgs/main/linux-64/zeromq-4.3.4-h2531618_0.conda\n",
      "https://repo.anaconda.com/pkgs/main/linux-64/zstd-1.4.5-h9ceee32_0.conda\n",
      "https://conda.anaconda.org/conda-forge/linux-64/dbus-1.13.6-he372182_0.tar.bz2\n",
      "https://conda.anaconda.org/conda-forge/linux-64/freetype-2.10.4-h7ca028e_0.tar.bz2\n",
      "https://repo.anaconda.com/pkgs/main/linux-64/gstreamer-1.14.0-h28cd5cc_2.conda\n",
      "https://conda.anaconda.org/conda-forge/linux-64/libcblas-3.9.0-8_openblas.tar.bz2\n",
      "https://conda.anaconda.org/conda-forge/linux-64/liblapack-3.9.0-8_openblas.tar.bz2\n",
      "https://repo.anaconda.com/pkgs/main/linux-64/libtiff-4.1.0-h2733197_1.conda\n",
      "https://repo.anaconda.com/pkgs/main/linux-64/sqlite-3.33.0-h62c20be_0.conda\n",
      "https://conda.anaconda.org/conda-forge/linux-64/fontconfig-2.13.1-he4413a7_1000.tar.bz2\n",
      "https://repo.anaconda.com/pkgs/main/linux-64/gst-plugins-base-1.14.0-hbbd80ab_1.conda\n",
      "https://conda.anaconda.org/conda-forge/linux-64/lcms2-2.11-hcbb858e_1.tar.bz2\n",
      "https://repo.anaconda.com/pkgs/main/linux-64/python-3.9.1-hdb3f193_2.conda\n",
      "https://conda.anaconda.org/conda-forge/noarch/async_generator-1.10-py_0.tar.bz2\n",
      "https://conda.anaconda.org/conda-forge/noarch/attrs-21.2.0-pyhd8ed1ab_0.tar.bz2\n",
      "https://conda.anaconda.org/conda-forge/noarch/backcall-0.2.0-pyh9f0ad1d_0.tar.bz2\n",
      "https://conda.anaconda.org/conda-forge/noarch/backports-1.0-py_2.tar.bz2\n",
      "https://repo.anaconda.com/pkgs/main/linux-64/chardet-3.0.4-py39h06a4308_1003.conda\n",
      "https://conda.anaconda.org/conda-forge/noarch/decorator-5.0.9-pyhd8ed1ab_0.tar.bz2\n",
      "https://conda.anaconda.org/conda-forge/noarch/defusedxml-0.7.1-pyhd8ed1ab_0.tar.bz2\n",
      "https://conda.anaconda.org/conda-forge/noarch/entrypoints-0.3-pyhd8ed1ab_1003.tar.bz2\n",
      "https://repo.anaconda.com/pkgs/main/noarch/idna-2.10-py_0.conda\n",
      "https://conda.anaconda.org/conda-forge/noarch/ipython_genutils-0.2.0-py_1.tar.bz2\n",
      "https://conda.anaconda.org/conda-forge/noarch/json5-0.9.5-pyh9f0ad1d_0.tar.bz2\n",
      "https://conda.anaconda.org/conda-forge/noarch/nest-asyncio-1.5.1-pyhd8ed1ab_0.tar.bz2\n",
      "https://conda.anaconda.org/conda-forge/noarch/olefile-0.46-pyh9f0ad1d_1.tar.bz2\n",
      "https://conda.anaconda.org/conda-forge/noarch/pandocfilters-1.4.2-py_1.tar.bz2\n",
      "https://conda.anaconda.org/conda-forge/noarch/parso-0.8.2-pyhd8ed1ab_0.tar.bz2\n",
      "https://conda.anaconda.org/conda-forge/noarch/pickleshare-0.7.5-py_1003.tar.bz2\n",
      "https://conda.anaconda.org/conda-forge/noarch/prometheus_client-0.10.1-pyhd8ed1ab_0.tar.bz2\n",
      "https://conda.anaconda.org/conda-forge/noarch/ptyprocess-0.7.0-pyhd3deb0d_0.tar.bz2\n",
      "https://repo.anaconda.com/pkgs/main/linux-64/pycosat-0.6.3-py39h27cfd23_0.conda\n",
      "https://repo.anaconda.com/pkgs/main/noarch/pycparser-2.20-py_2.conda\n",
      "https://conda.anaconda.org/conda-forge/noarch/pyparsing-2.4.7-pyh9f0ad1d_0.tar.bz2\n",
      "https://repo.anaconda.com/pkgs/main/linux-64/pysocks-1.7.1-py39h06a4308_0.conda\n",
      "https://conda.anaconda.org/conda-forge/linux-64/python_abi-3.9-1_cp39.tar.bz2\n",
      "https://conda.anaconda.org/conda-forge/noarch/pytz-2021.1-pyhd8ed1ab_0.tar.bz2\n",
      "https://repo.anaconda.com/pkgs/main/linux-64/qt-5.9.7-h5867ecd_1.conda\n",
      "https://repo.anaconda.com/pkgs/main/linux-64/ruamel_yaml-0.15.80-py39h27cfd23_0.conda\n",
      "https://conda.anaconda.org/conda-forge/noarch/send2trash-1.5.0-py_0.tar.bz2\n",
      "https://repo.anaconda.com/pkgs/main/linux-64/sip-4.19.13-py39h2531618_0.conda\n",
      "https://repo.anaconda.com/pkgs/main/linux-64/six-1.15.0-py39h06a4308_0.conda\n",
      "https://conda.anaconda.org/conda-forge/noarch/testpath-0.5.0-pyhd8ed1ab_0.tar.bz2\n",
      "https://repo.anaconda.com/pkgs/main/noarch/tqdm-4.54.1-pyhd3eb1b0_0.conda\n",
      "https://conda.anaconda.org/conda-forge/noarch/webencodings-0.5.1-py_1.tar.bz2\n",
      "https://repo.anaconda.com/pkgs/main/noarch/wheel-0.36.1-pyhd3eb1b0_0.conda\n",
      "https://conda.anaconda.org/conda-forge/noarch/zipp-3.4.1-pyhd8ed1ab_0.tar.bz2\n",
      "https://conda.anaconda.org/conda-forge/noarch/babel-2.9.1-pyh44b312d_0.tar.bz2\n",
      "https://conda.anaconda.org/conda-forge/linux-64/certifi-2020.12.5-py39hf3d152e_1.tar.bz2\n",
      "https://repo.anaconda.com/pkgs/main/linux-64/cffi-1.14.4-py39h261ae71_0.conda\n",
      "https://repo.anaconda.com/pkgs/main/linux-64/conda-package-handling-1.7.2-py39h27cfd23_1.conda\n",
      "https://conda.anaconda.org/conda-forge/noarch/cycler-0.10.0-py_2.tar.bz2\n",
      "https://conda.anaconda.org/conda-forge/linux-64/importlib-metadata-4.2.0-py39hf3d152e_0.tar.bz2\n",
      "https://conda.anaconda.org/conda-forge/linux-64/jedi-0.18.0-py39hf3d152e_2.tar.bz2\n",
      "https://conda.anaconda.org/conda-forge/linux-64/kiwisolver-1.3.1-py39h081fc7a_0.tar.bz2\n",
      "https://conda.anaconda.org/conda-forge/linux-64/markupsafe-1.1.1-py39h38d8fee_2.tar.bz2\n",
      "https://conda.anaconda.org/conda-forge/linux-64/mistune-0.8.4-py39hbd71b63_1002.tar.bz2\n",
      "https://conda.anaconda.org/conda-forge/linux-64/numpy-1.19.4-py39h57d35e7_1.tar.bz2\n",
      "https://conda.anaconda.org/conda-forge/noarch/packaging-20.9-pyh44b312d_0.tar.bz2\n",
      "https://conda.anaconda.org/conda-forge/noarch/pexpect-4.8.0-pyh9f0ad1d_2.tar.bz2\n",
      "https://conda.anaconda.org/conda-forge/linux-64/pillow-7.2.0-py39h6f3857e_2.tar.bz2\n",
      "https://repo.anaconda.com/pkgs/main/linux-64/pyqt-5.9.2-py39h2531618_6.conda\n",
      "https://conda.anaconda.org/conda-forge/linux-64/pyrsistent-0.17.3-py39hbd71b63_1.tar.bz2\n",
      "https://conda.anaconda.org/conda-forge/noarch/python-dateutil-2.8.1-py_0.tar.bz2\n",
      "https://conda.anaconda.org/conda-forge/linux-64/pyzmq-19.0.2-py39hb69f2a1_2.tar.bz2\n",
      "https://conda.anaconda.org/conda-forge/linux-64/sniffio-1.2.0-py39hf3d152e_1.tar.bz2\n",
      "https://conda.anaconda.org/conda-forge/linux-64/tornado-6.1-py39hbd71b63_0.tar.bz2\n",
      "https://conda.anaconda.org/conda-forge/noarch/traitlets-5.0.5-py_0.tar.bz2\n",
      "https://conda.anaconda.org/conda-forge/linux-64/websocket-client-0.57.0-py39hf3d152e_4.tar.bz2\n",
      "https://conda.anaconda.org/conda-forge/linux-64/anyio-3.1.0-py39hf3d152e_0.tar.bz2\n",
      "https://conda.anaconda.org/conda-forge/linux-64/argon2-cffi-20.1.0-py39hbd71b63_2.tar.bz2\n",
      "https://repo.anaconda.com/pkgs/main/linux-64/brotlipy-0.7.0-py39h27cfd23_1003.conda\n",
      "https://repo.anaconda.com/pkgs/main/linux-64/cryptography-3.3.1-py39h3c74f83_0.conda\n",
      "https://conda.anaconda.org/conda-forge/linux-64/jupyter_core-4.7.1-py39hf3d152e_0.tar.bz2\n",
      "https://conda.anaconda.org/conda-forge/noarch/matplotlib-inline-0.1.2-pyhd8ed1ab_2.tar.bz2\n",
      "https://conda.anaconda.org/conda-forge/linux-64/pandas-1.1.4-py39h9cfe711_0.tar.bz2\n",
      "https://repo.anaconda.com/pkgs/main/linux-64/setuptools-51.0.0-py39h06a4308_2.conda\n",
      "https://conda.anaconda.org/conda-forge/linux-64/terminado-0.10.0-py39hf3d152e_0.tar.bz2\n",
      "https://conda.anaconda.org/conda-forge/noarch/backports.functools_lru_cache-1.6.4-pyhd8ed1ab_0.tar.bz2\n",
      "https://conda.anaconda.org/conda-forge/noarch/bleach-3.3.0-pyh44b312d_0.tar.bz2\n",
      "https://conda.anaconda.org/conda-forge/noarch/jinja2-2.11.3-pyh44b312d_0.tar.bz2\n",
      "https://conda.anaconda.org/conda-forge/noarch/jsonschema-3.2.0-pyhd8ed1ab_3.tar.bz2\n",
      "https://conda.anaconda.org/conda-forge/noarch/jupyter_client-6.1.12-pyhd8ed1ab_0.tar.bz2\n",
      "https://repo.anaconda.com/pkgs/main/linux-64/matplotlib-base-3.3.4-py39h62a2d02_0.conda\n",
      "https://repo.anaconda.com/pkgs/main/linux-64/pip-20.3.1-py39h06a4308_0.conda\n",
      "https://conda.anaconda.org/conda-forge/noarch/pygments-2.9.0-pyhd8ed1ab_0.tar.bz2\n",
      "https://repo.anaconda.com/pkgs/main/noarch/pyopenssl-20.0.0-pyhd3eb1b0_1.conda\n",
      "https://conda.anaconda.org/conda-forge/noarch/jupyterlab_pygments-0.1.2-pyh9f0ad1d_0.tar.bz2\n",
      "https://repo.anaconda.com/pkgs/main/linux-64/matplotlib-3.3.4-py39h06a4308_0.conda\n",
      "https://conda.anaconda.org/conda-forge/noarch/nbformat-5.1.3-pyhd8ed1ab_0.tar.bz2\n",
      "https://repo.anaconda.com/pkgs/main/noarch/urllib3-1.25.11-py_0.conda\n",
      "https://conda.anaconda.org/conda-forge/noarch/wcwidth-0.2.5-pyh9f0ad1d_2.tar.bz2\n",
      "https://conda.anaconda.org/conda-forge/noarch/nbclient-0.5.3-pyhd8ed1ab_0.tar.bz2\n",
      "https://conda.anaconda.org/conda-forge/noarch/prompt-toolkit-3.0.18-pyha770c72_0.tar.bz2\n",
      "https://repo.anaconda.com/pkgs/main/noarch/requests-2.25.0-pyhd3eb1b0_0.conda\n",
      "https://conda.anaconda.org/conda-forge/linux-64/conda-4.10.1-py39hf3d152e_0.tar.bz2\n",
      "https://conda.anaconda.org/conda-forge/linux-64/ipython-7.23.1-py39hef51801_0.tar.bz2\n",
      "https://conda.anaconda.org/conda-forge/linux-64/nbconvert-6.0.7-py39hf3d152e_3.tar.bz2\n",
      "https://conda.anaconda.org/conda-forge/linux-64/ipykernel-5.5.5-py39hef51801_0.tar.bz2\n",
      "https://conda.anaconda.org/conda-forge/noarch/jupyter_server-1.8.0-pyhd8ed1ab_0.tar.bz2\n",
      "https://conda.anaconda.org/conda-forge/noarch/jupyterlab_server-2.5.2-pyhd8ed1ab_0.tar.bz2\n",
      "https://conda.anaconda.org/conda-forge/noarch/notebook-6.4.0-pyha770c72_0.tar.bz2\n",
      "https://conda.anaconda.org/conda-forge/noarch/nbclassic-0.3.1-pyhd8ed1ab_1.tar.bz2\n",
      "https://conda.anaconda.org/conda-forge/noarch/jupyterlab-3.0.16-pyhd8ed1ab_0.tar.bz2\n"
     ]
    }
   ],
   "source": [
    "!conda list --explicit"
   ]
  }
 ],
 "metadata": {
  "kernelspec": {
   "display_name": "Python 3",
   "language": "python",
   "name": "python3"
  },
  "language_info": {
   "codemirror_mode": {
    "name": "ipython",
    "version": 3
   },
   "file_extension": ".py",
   "mimetype": "text/x-python",
   "name": "python",
   "nbconvert_exporter": "python",
   "pygments_lexer": "ipython3",
   "version": "3.9.1"
  }
 },
 "nbformat": 4,
 "nbformat_minor": 5
}
