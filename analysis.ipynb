{
 "cells": [
  {
   "cell_type": "code",
   "execution_count": 1,
   "id": "fd7e11c5-1443-442b-9b44-8cb8f029088a",
   "metadata": {},
   "outputs": [],
   "source": [
    "import pandas"
   ]
  },
  {
   "cell_type": "code",
   "execution_count": 2,
   "id": "4b088a53-5a9e-491c-87a1-917a3008ed34",
   "metadata": {},
   "outputs": [],
   "source": [
    "filename='morpheus_logs/conda-20210526112500.log'"
   ]
  },
  {
   "cell_type": "code",
   "execution_count": 3,
   "id": "f673293c-e7b6-4326-bf9a-88ef1bdfe85a",
   "metadata": {},
   "outputs": [],
   "source": [
    "count=len(open(filename).readlines()) "
   ]
  },
  {
   "cell_type": "code",
   "execution_count": 8,
   "id": "d797095a-218a-467e-8e88-035a03c3502a",
   "metadata": {},
   "outputs": [
    {
     "data": {
      "text/html": [
       "<div>\n",
       "<style scoped>\n",
       "    .dataframe tbody tr th:only-of-type {\n",
       "        vertical-align: middle;\n",
       "    }\n",
       "\n",
       "    .dataframe tbody tr th {\n",
       "        vertical-align: top;\n",
       "    }\n",
       "\n",
       "    .dataframe thead th {\n",
       "        text-align: right;\n",
       "    }\n",
       "</style>\n",
       "<table border=\"1\" class=\"dataframe\">\n",
       "  <thead>\n",
       "    <tr style=\"text-align: right;\">\n",
       "      <th></th>\n",
       "      <th>morpheus</th>\n",
       "    </tr>\n",
       "  </thead>\n",
       "  <tbody>\n",
       "    <tr>\n",
       "      <th>0</th>\n",
       "      <td>2021-05-26_11:25:00</td>\n",
       "    </tr>\n",
       "    <tr>\n",
       "      <th>1</th>\n",
       "      <td>2021-05-26_11:26:01</td>\n",
       "    </tr>\n",
       "  </tbody>\n",
       "</table>\n",
       "</div>"
      ],
      "text/plain": [
       "              morpheus\n",
       "0  2021-05-26_11:25:00\n",
       "1  2021-05-26_11:26:01"
      ]
     },
     "execution_count": 8,
     "metadata": {},
     "output_type": "execute_result"
    }
   ],
   "source": [
    "pandas.read_csv(filename, skiprows=range(2,count-1))"
   ]
  },
  {
   "cell_type": "code",
   "execution_count": null,
   "id": "2b8ace5b-bda5-459f-8bb2-8d19a4ccc280",
   "metadata": {},
   "outputs": [],
   "source": [
    "# https://stackoverflow.com/a/51059210"
   ]
  }
 ],
 "metadata": {
  "kernelspec": {
   "display_name": "Python 3",
   "language": "python",
   "name": "python3"
  },
  "language_info": {
   "codemirror_mode": {
    "name": "ipython",
    "version": 3
   },
   "file_extension": ".py",
   "mimetype": "text/x-python",
   "name": "python",
   "nbconvert_exporter": "python",
   "pygments_lexer": "ipython3",
   "version": "3.9.1"
  }
 },
 "nbformat": 4,
 "nbformat_minor": 5
}
